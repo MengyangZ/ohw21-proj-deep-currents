{
 "cells": [
  {
   "cell_type": "code",
   "execution_count": 45,
   "id": "0345e99c",
   "metadata": {},
   "outputs": [
    {
     "name": "stdout",
     "output_type": "stream",
     "text": [
      "The autoreload extension is already loaded. To reload it, use:\n",
      "  %reload_ext autoreload\n"
     ]
    }
   ],
   "source": [
    "%load_ext autoreload\n",
    "%autoreload 2\n",
    "import pandas as pd\n",
    "import numpy as np\n",
    "import matplotlib.pyplot as plt\n",
    "import seaborn as sns\n",
    "from sklearn.pipeline import make_pipeline\n",
    "from sklearn.compose import ColumnTransformer\n",
    "from sklearn.pipeline import make_pipeline\n",
    "from sklearn.preprocessing import MinMaxScaler, StandardScaler\n",
    "from sklearn.impute import SimpleImputer, KNNImputer\n",
    "from sklearn.model_selection import train_test_split\n",
    "from tensorflow.keras import models\n",
    "from tensorflow.keras import layers\n",
    "from tensorflow.keras.callbacks import EarlyStopping\n",
    "from sklearn import set_config; set_config(display='diagram')"
   ]
  },
  {
   "cell_type": "code",
   "execution_count": null,
   "id": "a8fcbdc1",
   "metadata": {},
   "outputs": [],
   "source": [
    "# Use this cell to regroup all your imports\n",
    "\n",
    "from scipy import stats\n",
    "\n",
    "# sklearn preproc\n",
    "from sklearn.model_selection import train_test_split\n",
    "from sklearn.preprocessing import MinMaxScaler, StandardScaler\n",
    "from sklearn.pipeline import Pipeline, make_pipeline\n",
    "from sklearn.compose import ColumnTransformer, make_column_transformer, make_column_selector\n",
    "from sklearn.impute import SimpleImputer, KNNImputer\n",
    "from sklearn.preprocessing import RobustScaler, OneHotEncoder, OrdinalEncoder\n",
    "from sklearn.metrics import make_scorer mean_squared_error\n",
    "\n",
    "from sklearn.model_selection import cross_val_score\n",
    "from sklearn.neighbors import KNeighborsRegressor\n",
    "from sklearn.linear_model import Ridge, Lasso, LinearRegression\n",
    "from sklearn.model_selection import RandomizedSearchCV\n",
    "from sklearn.svm import SVR\n",
    "from sklearn.model_selection import GridSearchCV, RandomizedSearchCV\n",
    "from sklearn.ensemble import AdaBoostRegressor\n",
    "from sklearn.tree import DecisionTreeRegressor\n",
    "from sklearn.ensemble import VotingRegressor\n",
    "from sklearn.ensemble import GradientBoostingRegressor\n",
    "from sklearn.ensemble import StackingRegressor\n",
    "from sklearn.ensemble import RandomForestRegressor"
   ]
  },
  {
   "cell_type": "markdown",
   "id": "70ac6f93",
   "metadata": {},
   "source": [
    "# Load data"
   ]
  },
  {
   "cell_type": "markdown",
   "id": "48a9d371",
   "metadata": {},
   "source": [
    "## Dataset just for test"
   ]
  },
  {
   "cell_type": "code",
   "execution_count": null,
   "id": "04e0e36d",
   "metadata": {},
   "outputs": [],
   "source": [
    "from sklearn import datasets\n",
    "\n",
    "data = datasets.load_diabetes(return_X_y=False, as_frame=False)"
   ]
  },
  {
   "cell_type": "code",
   "execution_count": null,
   "id": "fbcc40bf",
   "metadata": {},
   "outputs": [],
   "source": [
    "X = pd.DataFrame(data['data'])"
   ]
  },
  {
   "cell_type": "code",
   "execution_count": null,
   "id": "1878c81f",
   "metadata": {},
   "outputs": [],
   "source": [
    "y = pd.Series(data['target'])"
   ]
  },
  {
   "cell_type": "markdown",
   "id": "43986296",
   "metadata": {},
   "source": [
    "## Train data"
   ]
  },
  {
   "cell_type": "code",
   "execution_count": null,
   "id": "8bcdf031",
   "metadata": {},
   "outputs": [],
   "source": [
    "# Let's load our training dataset\n",
    "data = pd.read_csv() #or xarray or erdap, etc\n",
    "X = data.drop(columns='velocity')\n",
    "y = data['velocity']"
   ]
  },
  {
   "cell_type": "markdown",
   "id": "7564b7e9",
   "metadata": {},
   "source": [
    "## Test data"
   ]
  },
  {
   "cell_type": "code",
   "execution_count": null,
   "id": "b581d8ba",
   "metadata": {},
   "outputs": [],
   "source": [
    "X_test = pd.read_csv() #or xarray or erdap, etc"
   ]
  },
  {
   "cell_type": "markdown",
   "id": "040d5aa0",
   "metadata": {},
   "source": [
    "# Prepare data"
   ]
  },
  {
   "cell_type": "markdown",
   "id": "42b844d0",
   "metadata": {},
   "source": [
    "## Build pipeline for preproc data"
   ]
  },
  {
   "cell_type": "markdown",
   "id": "eb5cf83d",
   "metadata": {},
   "source": [
    "This pipeline is important to adjust the data to enter in the DL model.\n",
    "\n",
    "We are applying two corrections:\n",
    "- KNNImputer: to impute value when we have missing data. It will get the closest value to complete\n",
    "- Standardcale: to use ML and DL models, we have to rescale all variables to the same scale. I choose Standard sclae, but it will depends on the hist distribuition of the variations (normal distribution and outliers)"
   ]
  },
  {
   "cell_type": "code",
   "execution_count": 51,
   "id": "f575a6f8",
   "metadata": {},
   "outputs": [
    {
     "data": {
      "text/plain": [
       "array([[<AxesSubplot:title={'center':'0'}>,\n",
       "        <AxesSubplot:title={'center':'1'}>,\n",
       "        <AxesSubplot:title={'center':'2'}>],\n",
       "       [<AxesSubplot:title={'center':'3'}>,\n",
       "        <AxesSubplot:title={'center':'4'}>,\n",
       "        <AxesSubplot:title={'center':'5'}>],\n",
       "       [<AxesSubplot:title={'center':'6'}>,\n",
       "        <AxesSubplot:title={'center':'7'}>,\n",
       "        <AxesSubplot:title={'center':'8'}>],\n",
       "       [<AxesSubplot:title={'center':'9'}>, <AxesSubplot:>,\n",
       "        <AxesSubplot:>]], dtype=object)"
      ]
     },
     "execution_count": 51,
     "metadata": {},
     "output_type": "execute_result"
    },
    {
     "data": {
      "image/png": "[encoded data removed]",
      "text/plain": [
       "<Figure size 432x288 with 12 Axes>"
      ]
     },
     "metadata": {
      "needs_background": "light"
     },
     "output_type": "display_data"
    }
   ],
   "source": [
    "X.hist()"
   ]
  },
  {
   "cell_type": "code",
   "execution_count": 35,
   "id": "1face8b4",
   "metadata": {},
   "outputs": [],
   "source": [
    "def create_preproc(X):\n",
    "    preproc_numerical = make_pipeline(\n",
    "        KNNImputer(),\n",
    "        StandardScaler()\n",
    "    )\n",
    "    feat_numerical = sorted(X.select_dtypes(\n",
    "        include=[\"int64\", \"float64\"]).columns)\n",
    "    \n",
    "    feature_transformer = ColumnTransformer(\n",
    "        [\n",
    "        (\"numerical_encoder\", preproc_numerical, feat_numerical)\n",
    "        ],\n",
    "        remainder=\"drop\")\n",
    "\n",
    "    \n",
    "    preproc = make_pipeline(\n",
    "        feature_transformer,\n",
    "    )\n",
    "\n",
    "    return preproc\n"
   ]
  },
  {
   "cell_type": "markdown",
   "id": "26d7bd21",
   "metadata": {},
   "source": [
    "## Preproc data"
   ]
  },
  {
   "cell_type": "markdown",
   "id": "87c9776d",
   "metadata": {},
   "source": [
    "Just to show the preproc model ⬇️"
   ]
  },
  {
   "cell_type": "code",
   "execution_count": 36,
   "id": "fb7760c1",
   "metadata": {},
   "outputs": [
    {
     "data": {
      "text/html": [
       "<style>#sk-6ea2d758-7a9b-422b-87df-52275b3d5579 {color: black;background-color: white;}#sk-6ea2d758-7a9b-422b-87df-52275b3d5579 pre{padding: 0;}#sk-6ea2d758-7a9b-422b-87df-52275b3d5579 div.sk-toggleable {background-color: white;}#sk-6ea2d758-7a9b-422b-87df-52275b3d5579 label.sk-toggleable__label {cursor: pointer;display: block;width: 100%;margin-bottom: 0;padding: 0.2em 0.3em;box-sizing: border-box;text-align: center;}#sk-6ea2d758-7a9b-422b-87df-52275b3d5579 div.sk-toggleable__content {max-height: 0;max-width: 0;overflow: hidden;text-align: left;background-color: #f0f8ff;}#sk-6ea2d758-7a9b-422b-87df-52275b3d5579 div.sk-toggleable__content pre {margin: 0.2em;color: black;border-radius: 0.25em;background-color: #f0f8ff;}#sk-6ea2d758-7a9b-422b-87df-52275b3d5579 input.sk-toggleable__control:checked~div.sk-toggleable__content {max-height: 200px;max-width: 100%;overflow: auto;}#sk-6ea2d758-7a9b-422b-87df-52275b3d5579 div.sk-estimator input.sk-toggleable__control:checked~label.sk-toggleable__label {background-color: #d4ebff;}#sk-6ea2d758-7a9b-422b-87df-52275b3d5579 div.sk-label input.sk-toggleable__control:checked~label.sk-toggleable__label {background-color: #d4ebff;}#sk-6ea2d758-7a9b-422b-87df-52275b3d5579 input.sk-hidden--visually {border: 0;clip: rect(1px 1px 1px 1px);clip: rect(1px, 1px, 1px, 1px);height: 1px;margin: -1px;overflow: hidden;padding: 0;position: absolute;width: 1px;}#sk-6ea2d758-7a9b-422b-87df-52275b3d5579 div.sk-estimator {font-family: monospace;background-color: #f0f8ff;margin: 0.25em 0.25em;border: 1px dotted black;border-radius: 0.25em;box-sizing: border-box;}#sk-6ea2d758-7a9b-422b-87df-52275b3d5579 div.sk-estimator:hover {background-color: #d4ebff;}#sk-6ea2d758-7a9b-422b-87df-52275b3d5579 div.sk-parallel-item::after {content: \"\";width: 100%;border-bottom: 1px solid gray;flex-grow: 1;}#sk-6ea2d758-7a9b-422b-87df-52275b3d5579 div.sk-label:hover label.sk-toggleable__label {background-color: #d4ebff;}#sk-6ea2d758-7a9b-422b-87df-52275b3d5579 div.sk-serial::before {content: \"\";position: absolute;border-left: 1px solid gray;box-sizing: border-box;top: 2em;bottom: 0;left: 50%;}#sk-6ea2d758-7a9b-422b-87df-52275b3d5579 div.sk-serial {display: flex;flex-direction: column;align-items: center;background-color: white;}#sk-6ea2d758-7a9b-422b-87df-52275b3d5579 div.sk-item {z-index: 1;}#sk-6ea2d758-7a9b-422b-87df-52275b3d5579 div.sk-parallel {display: flex;align-items: stretch;justify-content: center;background-color: white;}#sk-6ea2d758-7a9b-422b-87df-52275b3d5579 div.sk-parallel-item {display: flex;flex-direction: column;position: relative;background-color: white;}#sk-6ea2d758-7a9b-422b-87df-52275b3d5579 div.sk-parallel-item:first-child::after {align-self: flex-end;width: 50%;}#sk-6ea2d758-7a9b-422b-87df-52275b3d5579 div.sk-parallel-item:last-child::after {align-self: flex-start;width: 50%;}#sk-6ea2d758-7a9b-422b-87df-52275b3d5579 div.sk-parallel-item:only-child::after {width: 0;}#sk-6ea2d758-7a9b-422b-87df-52275b3d5579 div.sk-dashed-wrapped {border: 1px dashed gray;margin: 0.2em;box-sizing: border-box;padding-bottom: 0.1em;background-color: white;position: relative;}#sk-6ea2d758-7a9b-422b-87df-52275b3d5579 div.sk-label label {font-family: monospace;font-weight: bold;background-color: white;display: inline-block;line-height: 1.2em;}#sk-6ea2d758-7a9b-422b-87df-52275b3d5579 div.sk-label-container {position: relative;z-index: 2;text-align: center;}#sk-6ea2d758-7a9b-422b-87df-52275b3d5579 div.sk-container {display: inline-block;position: relative;}</style><div id=\"sk-6ea2d758-7a9b-422b-87df-52275b3d5579\" class\"sk-top-container\"><div class=\"sk-container\"><div class=\"sk-item sk-dashed-wrapped\"><div class=\"sk-label-container\"><div class=\"sk-label sk-toggleable\"><input class=\"sk-toggleable__control sk-hidden--visually\" id=\"51189820-885a-4f9f-b13c-1620157797e6\" type=\"checkbox\" ><label class=\"sk-toggleable__label\" for=\"51189820-885a-4f9f-b13c-1620157797e6\">Pipeline</label><div class=\"sk-toggleable__content\"><pre>Pipeline(steps=[('columntransformer',\n",
       "                 ColumnTransformer(transformers=[('numerical_encoder',\n",
       "                                                  Pipeline(steps=[('knnimputer',\n",
       "                                                                   KNNImputer()),\n",
       "                                                                  ('standardscaler',\n",
       "                                                                   StandardScaler())]),\n",
       "                                                  [0, 1, 2, 3, 4, 5, 6, 7, 8,\n",
       "                                                   9])]))])</pre></div></div></div><div class=\"sk-serial\"><div class=\"sk-item sk-dashed-wrapped\"><div class=\"sk-label-container\"><div class=\"sk-label sk-toggleable\"><input class=\"sk-toggleable__control sk-hidden--visually\" id=\"c0ae90c2-6398-40de-8dc0-faae43af0c75\" type=\"checkbox\" ><label class=\"sk-toggleable__label\" for=\"c0ae90c2-6398-40de-8dc0-faae43af0c75\">columntransformer: ColumnTransformer</label><div class=\"sk-toggleable__content\"><pre>ColumnTransformer(transformers=[('numerical_encoder',\n",
       "                                 Pipeline(steps=[('knnimputer', KNNImputer()),\n",
       "                                                 ('standardscaler',\n",
       "                                                  StandardScaler())]),\n",
       "                                 [0, 1, 2, 3, 4, 5, 6, 7, 8, 9])])</pre></div></div></div><div class=\"sk-parallel\"><div class=\"sk-parallel-item\"><div class=\"sk-item\"><div class=\"sk-label-container\"><div class=\"sk-label sk-toggleable\"><input class=\"sk-toggleable__control sk-hidden--visually\" id=\"4425fef4-4580-47c3-8de7-80bd42d549a8\" type=\"checkbox\" ><label class=\"sk-toggleable__label\" for=\"4425fef4-4580-47c3-8de7-80bd42d549a8\">numerical_encoder</label><div class=\"sk-toggleable__content\"><pre>[0, 1, 2, 3, 4, 5, 6, 7, 8, 9]</pre></div></div></div><div class=\"sk-serial\"><div class=\"sk-item\"><div class=\"sk-serial\"><div class=\"sk-item\"><div class=\"sk-estimator sk-toggleable\"><input class=\"sk-toggleable__control sk-hidden--visually\" id=\"d480b671-538e-4aba-b91e-bbb6cce1afc9\" type=\"checkbox\" ><label class=\"sk-toggleable__label\" for=\"d480b671-538e-4aba-b91e-bbb6cce1afc9\">KNNImputer</label><div class=\"sk-toggleable__content\"><pre>KNNImputer()</pre></div></div></div><div class=\"sk-item\"><div class=\"sk-estimator sk-toggleable\"><input class=\"sk-toggleable__control sk-hidden--visually\" id=\"f797b563-0c38-4317-bd82-779270f7c4ff\" type=\"checkbox\" ><label class=\"sk-toggleable__label\" for=\"f797b563-0c38-4317-bd82-779270f7c4ff\">StandardScaler</label><div class=\"sk-toggleable__content\"><pre>StandardScaler()</pre></div></div></div></div></div></div></div></div></div></div></div></div></div></div>"
      ],
      "text/plain": [
       "Pipeline(steps=[('columntransformer',\n",
       "                 ColumnTransformer(transformers=[('numerical_encoder',\n",
       "                                                  Pipeline(steps=[('knnimputer',\n",
       "                                                                   KNNImputer()),\n",
       "                                                                  ('standardscaler',\n",
       "                                                                   StandardScaler())]),\n",
       "                                                  [0, 1, 2, 3, 4, 5, 6, 7, 8,\n",
       "                                                   9])]))])"
      ]
     },
     "execution_count": 36,
     "metadata": {},
     "output_type": "execute_result"
    }
   ],
   "source": [
    "preproc = create_preproc(X)\n",
    "preproc"
   ]
  },
  {
   "cell_type": "markdown",
   "id": "19095f23",
   "metadata": {},
   "source": [
    "Fit and transform the data ⬇️"
   ]
  },
  {
   "cell_type": "code",
   "execution_count": 37,
   "id": "fd54e6d6",
   "metadata": {},
   "outputs": [],
   "source": [
    "preproc.fit(X)"
   ]
  },
  {
   "cell_type": "markdown",
   "id": "d15e6a27",
   "metadata": {},
   "source": [
    "# Machine Learning"
   ]
  },
  {
   "cell_type": "code",
   "execution_count": null,
   "id": "25c92f11",
   "metadata": {},
   "outputs": [],
   "source": [
    "pipe_baseline = make_pipeline(preproc_baseline, Ridge())\n",
    "pipe_baseline"
   ]
  },
  {
   "cell_type": "code",
   "execution_count": null,
   "id": "323b9e8d",
   "metadata": {},
   "outputs": [],
   "source": [
    "score_baseline = cross_val_score(pipe_baseline, X, y, cv=5, scoring='mse').mean()\n",
    "score_baseline"
   ]
  },
  {
   "cell_type": "code",
   "execution_count": null,
   "id": "f96193a3",
   "metadata": {},
   "outputs": [],
   "source": [
    "pipe_baseline.fit(X,y)\n",
    "y_pred_baseline = pipe_baseline.predict(X_test)\n",
    "y_pred_baseline"
   ]
  },
  {
   "cell_type": "markdown",
   "id": "4b83e9ca",
   "metadata": {},
   "source": [
    "# Deep Learning"
   ]
  },
  {
   "cell_type": "markdown",
   "id": "98e23687",
   "metadata": {},
   "source": [
    "## Preproc data"
   ]
  },
  {
   "cell_type": "code",
   "execution_count": null,
   "id": "c668ec5d",
   "metadata": {},
   "outputs": [],
   "source": [
    "X_preproc = preproc.transform(X)"
   ]
  },
  {
   "cell_type": "markdown",
   "id": "75545019",
   "metadata": {},
   "source": [
    "## Create validation split"
   ]
  },
  {
   "cell_type": "code",
   "execution_count": 38,
   "id": "bbdf985f",
   "metadata": {},
   "outputs": [],
   "source": [
    "X_train, X_val, y_train, y_val = train_test_split(X_preproc, y, test_size=0.3, random_state=0)"
   ]
  },
  {
   "cell_type": "markdown",
   "id": "ba3720f0",
   "metadata": {},
   "source": [
    "## Initialize model"
   ]
  },
  {
   "cell_type": "markdown",
   "id": "1545b9bf",
   "metadata": {},
   "source": [
    "See the shape of your data and try insert the number of columns in the input_dim value"
   ]
  },
  {
   "cell_type": "code",
   "execution_count": 39,
   "id": "3c39a36a",
   "metadata": {},
   "outputs": [
    {
     "data": {
      "text/plain": [
       "(442, 10)"
      ]
     },
     "execution_count": 39,
     "metadata": {},
     "output_type": "execute_result"
    }
   ],
   "source": [
    "X_preproc.shape"
   ]
  },
  {
   "cell_type": "code",
   "execution_count": 40,
   "id": "30141c22",
   "metadata": {},
   "outputs": [],
   "source": [
    "input_dim = 10 #insert here the number of dimensions of the X data"
   ]
  },
  {
   "cell_type": "code",
   "execution_count": 41,
   "id": "bd24ced8",
   "metadata": {},
   "outputs": [],
   "source": [
    "def initialize_model(input_dim):\n",
    "\n",
    "    model = models.Sequential()\n",
    "\n",
    "    model.add(layers.Dense(20, activation='relu', input_dim=input_dim))\n",
    "    model.add(layers.Dense(20, activation='relu'))\n",
    "    model.add(layers.Dense(20, activation='relu'))\n",
    "\n",
    "    model.add(layers.Dense(1, activation='linear')) \n",
    "\n",
    "    model.compile(optimizer='adam',\n",
    "                  loss='msle')# optimize for the squared log error!\n",
    "    \n",
    "    return model"
   ]
  },
  {
   "cell_type": "markdown",
   "id": "bb46b937",
   "metadata": {},
   "source": [
    "Initialize modal and show its summary"
   ]
  },
  {
   "cell_type": "code",
   "execution_count": 43,
   "id": "2a76c0e5",
   "metadata": {},
   "outputs": [
    {
     "name": "stdout",
     "output_type": "stream",
     "text": [
      "Model: \"sequential\"\n",
      "_________________________________________________________________\n",
      "Layer (type)                 Output Shape              Param #   \n",
      "=================================================================\n",
      "dense (Dense)                (None, 20)                220       \n",
      "_________________________________________________________________\n",
      "dense_1 (Dense)              (None, 20)                420       \n",
      "_________________________________________________________________\n",
      "dense_2 (Dense)              (None, 20)                420       \n",
      "_________________________________________________________________\n",
      "dense_3 (Dense)              (None, 1)                 21        \n",
      "=================================================================\n",
      "Total params: 1,081\n",
      "Trainable params: 1,081\n",
      "Non-trainable params: 0\n",
      "_________________________________________________________________\n"
     ]
    }
   ],
   "source": [
    "model = initialize_model(input_dim)\n",
    "model.summary()"
   ]
  },
  {
   "cell_type": "markdown",
   "id": "3a69bc65",
   "metadata": {},
   "source": [
    "## Fit model to your data"
   ]
  },
  {
   "cell_type": "code",
   "execution_count": 46,
   "id": "30f359b2",
   "metadata": {},
   "outputs": [
    {
     "name": "stderr",
     "output_type": "stream",
     "text": [
      "2021-08-04 19:25:45.044626: I tensorflow/compiler/mlir/mlir_graph_optimization_pass.cc:176] None of the MLIR Optimization Passes are enabled (registered 2)\n",
      "2021-08-04 19:25:45.062143: I tensorflow/core/platform/profile_utils/cpu_utils.cc:114] CPU Frequency: 1190400000 Hz\n"
     ]
    },
    {
     "name": "stdout",
     "output_type": "stream",
     "text": [
      "Epoch 1/100\n",
      "14/14 [==============================] - 0s 8ms/step - loss: 20.5365 - val_loss: 18.7059\n",
      "Epoch 2/100\n",
      "14/14 [==============================] - 0s 2ms/step - loss: 17.7482 - val_loss: 16.0815\n",
      "Epoch 3/100\n",
      "14/14 [==============================] - 0s 2ms/step - loss: 15.2825 - val_loss: 13.9094\n",
      "Epoch 4/100\n",
      "14/14 [==============================] - 0s 2ms/step - loss: 13.1897 - val_loss: 12.0139\n",
      "Epoch 5/100\n",
      "14/14 [==============================] - 0s 2ms/step - loss: 11.3717 - val_loss: 10.3558\n",
      "Epoch 6/100\n",
      "14/14 [==============================] - 0s 2ms/step - loss: 9.7832 - val_loss: 8.8775\n",
      "Epoch 7/100\n",
      "14/14 [==============================] - 0s 2ms/step - loss: 8.3906 - val_loss: 7.6219\n",
      "Epoch 8/100\n",
      "14/14 [==============================] - 0s 2ms/step - loss: 7.2179 - val_loss: 6.5609\n",
      "Epoch 9/100\n",
      "14/14 [==============================] - 0s 2ms/step - loss: 6.2264 - val_loss: 5.6816\n",
      "Epoch 10/100\n",
      "14/14 [==============================] - 0s 2ms/step - loss: 5.3983 - val_loss: 4.9399\n",
      "Epoch 11/100\n",
      "14/14 [==============================] - 0s 2ms/step - loss: 4.7058 - val_loss: 4.3088\n",
      "Epoch 12/100\n",
      "14/14 [==============================] - 0s 2ms/step - loss: 4.1122 - val_loss: 3.7805\n",
      "Epoch 13/100\n",
      "14/14 [==============================] - 0s 2ms/step - loss: 3.6113 - val_loss: 3.3315\n",
      "Epoch 14/100\n",
      "14/14 [==============================] - 0s 2ms/step - loss: 3.1886 - val_loss: 2.9434\n",
      "Epoch 15/100\n",
      "14/14 [==============================] - 0s 2ms/step - loss: 2.8228 - val_loss: 2.6114\n",
      "Epoch 16/100\n",
      "14/14 [==============================] - 0s 2ms/step - loss: 2.5081 - val_loss: 2.3279\n",
      "Epoch 17/100\n",
      "14/14 [==============================] - 0s 2ms/step - loss: 2.2382 - val_loss: 2.0808\n",
      "Epoch 18/100\n",
      "14/14 [==============================] - 0s 2ms/step - loss: 2.0055 - val_loss: 1.8621\n",
      "Epoch 19/100\n",
      "14/14 [==============================] - 0s 2ms/step - loss: 1.7953 - val_loss: 1.6774\n",
      "Epoch 20/100\n",
      "14/14 [==============================] - 0s 2ms/step - loss: 1.6211 - val_loss: 1.5111\n",
      "Epoch 21/100\n",
      "14/14 [==============================] - 0s 2ms/step - loss: 1.4611 - val_loss: 1.3684\n",
      "Epoch 22/100\n",
      "14/14 [==============================] - 0s 2ms/step - loss: 1.3246 - val_loss: 1.2430\n",
      "Epoch 23/100\n",
      "14/14 [==============================] - 0s 2ms/step - loss: 1.2036 - val_loss: 1.1322\n",
      "Epoch 24/100\n",
      "14/14 [==============================] - 0s 2ms/step - loss: 1.0981 - val_loss: 1.0338\n",
      "Epoch 25/100\n",
      "14/14 [==============================] - 0s 2ms/step - loss: 1.0048 - val_loss: 0.9464\n",
      "Epoch 26/100\n",
      "14/14 [==============================] - 0s 2ms/step - loss: 0.9205 - val_loss: 0.8715\n",
      "Epoch 27/100\n",
      "14/14 [==============================] - 0s 2ms/step - loss: 0.8484 - val_loss: 0.8051\n",
      "Epoch 28/100\n",
      "14/14 [==============================] - 0s 2ms/step - loss: 0.7836 - val_loss: 0.7463\n",
      "Epoch 29/100\n",
      "14/14 [==============================] - 0s 2ms/step - loss: 0.7271 - val_loss: 0.6917\n",
      "Epoch 30/100\n",
      "14/14 [==============================] - 0s 2ms/step - loss: 0.6747 - val_loss: 0.6464\n",
      "Epoch 31/100\n",
      "14/14 [==============================] - 0s 2ms/step - loss: 0.6304 - val_loss: 0.6060\n",
      "Epoch 32/100\n",
      "14/14 [==============================] - 0s 2ms/step - loss: 0.5904 - val_loss: 0.5690\n",
      "Epoch 33/100\n",
      "14/14 [==============================] - 0s 2ms/step - loss: 0.5545 - val_loss: 0.5369\n",
      "Epoch 34/100\n",
      "14/14 [==============================] - 0s 2ms/step - loss: 0.5237 - val_loss: 0.5064\n",
      "Epoch 35/100\n",
      "14/14 [==============================] - 0s 2ms/step - loss: 0.4946 - val_loss: 0.4810\n",
      "Epoch 36/100\n",
      "14/14 [==============================] - 0s 2ms/step - loss: 0.4700 - val_loss: 0.4567\n",
      "Epoch 37/100\n",
      "14/14 [==============================] - 0s 2ms/step - loss: 0.4462 - val_loss: 0.4360\n",
      "Epoch 38/100\n",
      "14/14 [==============================] - 0s 2ms/step - loss: 0.4260 - val_loss: 0.4181\n",
      "Epoch 39/100\n",
      "14/14 [==============================] - 0s 2ms/step - loss: 0.4082 - val_loss: 0.4011\n",
      "Epoch 40/100\n",
      "14/14 [==============================] - 0s 2ms/step - loss: 0.3916 - val_loss: 0.3861\n",
      "Epoch 41/100\n",
      "14/14 [==============================] - 0s 2ms/step - loss: 0.3772 - val_loss: 0.3721\n",
      "Epoch 42/100\n",
      "14/14 [==============================] - 0s 2ms/step - loss: 0.3637 - val_loss: 0.3593\n",
      "Epoch 43/100\n",
      "14/14 [==============================] - 0s 2ms/step - loss: 0.3516 - val_loss: 0.3484\n",
      "Epoch 44/100\n",
      "14/14 [==============================] - 0s 2ms/step - loss: 0.3408 - val_loss: 0.3382\n",
      "Epoch 45/100\n",
      "14/14 [==============================] - 0s 2ms/step - loss: 0.3310 - val_loss: 0.3291\n",
      "Epoch 46/100\n",
      "14/14 [==============================] - 0s 2ms/step - loss: 0.3225 - val_loss: 0.3204\n",
      "Epoch 47/100\n",
      "14/14 [==============================] - 0s 2ms/step - loss: 0.3142 - val_loss: 0.3122\n",
      "Epoch 48/100\n",
      "14/14 [==============================] - 0s 2ms/step - loss: 0.3065 - val_loss: 0.3052\n",
      "Epoch 49/100\n",
      "14/14 [==============================] - 0s 2ms/step - loss: 0.2997 - val_loss: 0.2984\n",
      "Epoch 50/100\n",
      "14/14 [==============================] - 0s 2ms/step - loss: 0.2932 - val_loss: 0.2921\n",
      "Epoch 51/100\n",
      "14/14 [==============================] - 0s 2ms/step - loss: 0.2873 - val_loss: 0.2859\n",
      "Epoch 52/100\n",
      "14/14 [==============================] - 0s 2ms/step - loss: 0.2820 - val_loss: 0.2805\n",
      "Epoch 53/100\n",
      "14/14 [==============================] - 0s 2ms/step - loss: 0.2767 - val_loss: 0.2755\n",
      "Epoch 54/100\n",
      "14/14 [==============================] - 0s 2ms/step - loss: 0.2726 - val_loss: 0.2706\n",
      "Epoch 55/100\n",
      "14/14 [==============================] - 0s 2ms/step - loss: 0.2680 - val_loss: 0.2662\n",
      "Epoch 56/100\n",
      "14/14 [==============================] - 0s 2ms/step - loss: 0.2638 - val_loss: 0.2624\n",
      "Epoch 57/100\n",
      "14/14 [==============================] - 0s 2ms/step - loss: 0.2603 - val_loss: 0.2586\n",
      "Epoch 58/100\n",
      "14/14 [==============================] - 0s 2ms/step - loss: 0.2569 - val_loss: 0.2546\n",
      "Epoch 59/100\n",
      "14/14 [==============================] - 0s 2ms/step - loss: 0.2535 - val_loss: 0.2510\n",
      "Epoch 60/100\n",
      "14/14 [==============================] - 0s 2ms/step - loss: 0.2503 - val_loss: 0.2476\n",
      "Epoch 61/100\n",
      "14/14 [==============================] - 0s 2ms/step - loss: 0.2474 - val_loss: 0.2443\n",
      "Epoch 62/100\n",
      "14/14 [==============================] - 0s 2ms/step - loss: 0.2445 - val_loss: 0.2411\n",
      "Epoch 63/100\n",
      "14/14 [==============================] - 0s 2ms/step - loss: 0.2418 - val_loss: 0.2381\n",
      "Epoch 64/100\n",
      "14/14 [==============================] - 0s 2ms/step - loss: 0.2392 - val_loss: 0.2352\n",
      "Epoch 65/100\n",
      "14/14 [==============================] - 0s 2ms/step - loss: 0.2368 - val_loss: 0.2325\n",
      "Epoch 66/100\n",
      "14/14 [==============================] - 0s 2ms/step - loss: 0.2344 - val_loss: 0.2298\n",
      "Epoch 67/100\n",
      "14/14 [==============================] - 0s 2ms/step - loss: 0.2322 - val_loss: 0.2271\n",
      "Epoch 68/100\n",
      "14/14 [==============================] - 0s 2ms/step - loss: 0.2301 - val_loss: 0.2246\n",
      "Epoch 69/100\n",
      "14/14 [==============================] - 0s 2ms/step - loss: 0.2280 - val_loss: 0.2223\n",
      "Epoch 70/100\n",
      "14/14 [==============================] - 0s 2ms/step - loss: 0.2260 - val_loss: 0.2199\n",
      "Epoch 71/100\n",
      "14/14 [==============================] - 0s 2ms/step - loss: 0.2242 - val_loss: 0.2176\n",
      "Epoch 72/100\n",
      "14/14 [==============================] - 0s 2ms/step - loss: 0.2222 - val_loss: 0.2154\n",
      "Epoch 73/100\n",
      "14/14 [==============================] - 0s 2ms/step - loss: 0.2205 - val_loss: 0.2131\n",
      "Epoch 74/100\n",
      "14/14 [==============================] - 0s 2ms/step - loss: 0.2188 - val_loss: 0.2110\n",
      "Epoch 75/100\n",
      "14/14 [==============================] - 0s 2ms/step - loss: 0.2170 - val_loss: 0.2091\n",
      "Epoch 76/100\n",
      "14/14 [==============================] - 0s 2ms/step - loss: 0.2154 - val_loss: 0.2070\n",
      "Epoch 77/100\n",
      "14/14 [==============================] - 0s 2ms/step - loss: 0.2138 - val_loss: 0.2048\n",
      "Epoch 78/100\n",
      "14/14 [==============================] - 0s 2ms/step - loss: 0.2122 - val_loss: 0.2031\n",
      "Epoch 79/100\n",
      "14/14 [==============================] - 0s 2ms/step - loss: 0.2108 - val_loss: 0.2012\n",
      "Epoch 80/100\n",
      "14/14 [==============================] - 0s 2ms/step - loss: 0.2094 - val_loss: 0.1996\n",
      "Epoch 81/100\n",
      "14/14 [==============================] - 0s 2ms/step - loss: 0.2081 - val_loss: 0.1974\n",
      "Epoch 82/100\n",
      "14/14 [==============================] - 0s 2ms/step - loss: 0.2066 - val_loss: 0.1958\n"
     ]
    },
    {
     "name": "stdout",
     "output_type": "stream",
     "text": [
      "Epoch 83/100\n",
      "14/14 [==============================] - 0s 2ms/step - loss: 0.2053 - val_loss: 0.1941\n",
      "Epoch 84/100\n",
      "14/14 [==============================] - 0s 2ms/step - loss: 0.2041 - val_loss: 0.1925\n",
      "Epoch 85/100\n",
      "14/14 [==============================] - 0s 2ms/step - loss: 0.2028 - val_loss: 0.1908\n",
      "Epoch 86/100\n",
      "14/14 [==============================] - 0s 2ms/step - loss: 0.2016 - val_loss: 0.1891\n",
      "Epoch 87/100\n",
      "14/14 [==============================] - 0s 2ms/step - loss: 0.2004 - val_loss: 0.1877\n",
      "Epoch 88/100\n",
      "14/14 [==============================] - 0s 2ms/step - loss: 0.1993 - val_loss: 0.1859\n",
      "Epoch 89/100\n",
      "14/14 [==============================] - 0s 2ms/step - loss: 0.1981 - val_loss: 0.1847\n",
      "Epoch 90/100\n",
      "14/14 [==============================] - 0s 2ms/step - loss: 0.1970 - val_loss: 0.1831\n",
      "Epoch 91/100\n",
      "14/14 [==============================] - 0s 2ms/step - loss: 0.1960 - val_loss: 0.1818\n",
      "Epoch 92/100\n",
      "14/14 [==============================] - 0s 2ms/step - loss: 0.1948 - val_loss: 0.1801\n",
      "Epoch 93/100\n",
      "14/14 [==============================] - 0s 2ms/step - loss: 0.1938 - val_loss: 0.1788\n",
      "Epoch 94/100\n",
      "14/14 [==============================] - 0s 2ms/step - loss: 0.1926 - val_loss: 0.1772\n",
      "Epoch 95/100\n",
      "14/14 [==============================] - 0s 2ms/step - loss: 0.1916 - val_loss: 0.1756\n",
      "Epoch 96/100\n",
      "14/14 [==============================] - 0s 2ms/step - loss: 0.1906 - val_loss: 0.1742\n",
      "Epoch 97/100\n",
      "14/14 [==============================] - 0s 2ms/step - loss: 0.1895 - val_loss: 0.1727\n",
      "Epoch 98/100\n",
      "14/14 [==============================] - 0s 2ms/step - loss: 0.1886 - val_loss: 0.1714\n",
      "Epoch 99/100\n",
      "14/14 [==============================] - 0s 2ms/step - loss: 0.1877 - val_loss: 0.1698\n",
      "Epoch 100/100\n",
      "14/14 [==============================] - 0s 2ms/step - loss: 0.1868 - val_loss: 0.1687\n"
     ]
    }
   ],
   "source": [
    "es = EarlyStopping(patience=30, restore_best_weights=True)\n",
    "\n",
    "history = model.fit(X_train, y_train,\n",
    "                    validation_split=0.3,\n",
    "                    epochs=100,\n",
    "                    batch_size=16, \n",
    "                    verbose=1, \n",
    "                    callbacks=[es])"
   ]
  },
  {
   "cell_type": "markdown",
   "id": "d9be5a2b",
   "metadata": {},
   "source": [
    "## Evaluate the model"
   ]
  },
  {
   "cell_type": "code",
   "execution_count": 47,
   "id": "ec135667",
   "metadata": {},
   "outputs": [],
   "source": [
    "def plot_history(history):\n",
    "    plt.plot(np.sqrt(history.history['loss']))\n",
    "    plt.plot(np.sqrt(history.history['val_loss']))\n",
    "    plt.title('Model Loss')\n",
    "    plt.ylabel('MSLE')\n",
    "    plt.xlabel('Epoch')\n",
    "    plt.legend(['Train', 'Val'], loc='best')\n",
    "    plt.show()"
   ]
  },
  {
   "cell_type": "code",
   "execution_count": 48,
   "id": "7bac7980",
   "metadata": {},
   "outputs": [
    {
     "data": {
      "image/png": "[encoded data removed]",
      "text/plain": [
       "<Figure size 432x288 with 1 Axes>"
      ]
     },
     "metadata": {
      "needs_background": "light"
     },
     "output_type": "display_data"
    }
   ],
   "source": [
    "plot_history(history)"
   ]
  },
  {
   "cell_type": "code",
   "execution_count": 49,
   "id": "25be06af",
   "metadata": {},
   "outputs": [
    {
     "data": {
      "text/plain": [
       "0.18283532559871674"
      ]
     },
     "execution_count": 49,
     "metadata": {},
     "output_type": "execute_result"
    }
   ],
   "source": [
    "model.evaluate(X_val, y_val, verbose=0)"
   ]
  },
  {
   "cell_type": "markdown",
   "id": "a65baee3",
   "metadata": {},
   "source": [
    "## Predict the data"
   ]
  },
  {
   "cell_type": "code",
   "execution_count": null,
   "id": "4e505877",
   "metadata": {},
   "outputs": [],
   "source": [
    "y_pred = model.predict(preproc.transform(X_test))"
   ]
  },
  {
   "cell_type": "code",
   "execution_count": null,
   "id": "80f6ca0d",
   "metadata": {},
   "outputs": [],
   "source": []
  }
 ],
 "metadata": {
  "kernelspec": {
   "display_name": "Python 3 (ipykernel)",
   "language": "python",
   "name": "python3"
  },
  "language_info": {
   "codemirror_mode": {
    "name": "ipython",
    "version": 3
   },
   "file_extension": ".py",
   "mimetype": "text/x-python",
   "name": "python",
   "nbconvert_exporter": "python",
   "pygments_lexer": "ipython3",
   "version": "3.8.6"
  },
  "toc": {
   "base_numbering": 1,
   "nav_menu": {},
   "number_sections": true,
   "sideBar": true,
   "skip_h1_title": false,
   "title_cell": "Table of Contents",
   "title_sidebar": "Contents",
   "toc_cell": false,
   "toc_position": {},
   "toc_section_display": true,
   "toc_window_display": false
  }
 },
 "nbformat": 4,
 "nbformat_minor": 5
}
