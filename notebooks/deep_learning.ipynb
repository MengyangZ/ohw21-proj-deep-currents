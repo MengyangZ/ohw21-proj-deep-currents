{
 "cells": [
  {
   "cell_type": "code",
   "execution_count": 3,
   "id": "0345e99c",
   "metadata": {},
   "outputs": [
    {
     "name": "stdout",
     "output_type": "stream",
     "text": [
      "The autoreload extension is already loaded. To reload it, use:\n",
      "  %reload_ext autoreload\n"
     ]
    }
   ],
   "source": [
    "%load_ext autoreload\n",
    "%autoreload 2\n",
    "import pandas as pd\n",
    "import numpy as np\n",
    "import matplotlib.pyplot as plt\n",
    "import seaborn as sns\n",
    "from sklearn.pipeline import make_pipeline\n",
    "from sklearn.compose import ColumnTransformer\n",
    "from sklearn.pipeline import make_pipeline\n",
    "from sklearn.preprocessing import MinMaxScaler, StandardScaler\n",
    "from sklearn.impute import SimpleImputer, KNNImputer\n",
    "from sklearn.model_selection import train_test_split\n",
    "from tensorflow.keras import models\n",
    "from tensorflow.keras import layers\n",
    "from tensorflow.keras.callbacks import EarlyStopping\n",
    "from sklearn import set_config; set_config(display='diagram')"
   ]
  },
  {
   "cell_type": "code",
   "execution_count": 2,
   "id": "a8fcbdc1",
   "metadata": {},
   "outputs": [],
   "source": [
    "# Use this cell to regroup all your imports\n",
    "\n",
    "\n",
    "\n",
    "\n",
    "from scipy import stats\n",
    "import xarray as xr\n",
    "# sklearn preproc\n",
    "from sklearn.model_selection import train_test_split\n",
    "from sklearn.preprocessing import MinMaxScaler, StandardScaler\n",
    "from sklearn.pipeline import Pipeline, make_pipeline\n",
    "from sklearn.compose import ColumnTransformer, make_column_transformer, make_column_selector\n",
    "from sklearn.impute import SimpleImputer, KNNImputer\n",
    "from sklearn.preprocessing import RobustScaler, OneHotEncoder, OrdinalEncoder\n",
    "from sklearn.metrics import make_scorer, mean_squared_error\n",
    "\n",
    "from sklearn.model_selection import cross_val_score\n",
    "from sklearn.neighbors import KNeighborsRegressor\n",
    "from sklearn.linear_model import Ridge, Lasso, LinearRegression\n",
    "from sklearn.model_selection import RandomizedSearchCV\n",
    "from sklearn.svm import SVR\n",
    "from sklearn.model_selection import GridSearchCV, RandomizedSearchCV\n",
    "from sklearn.ensemble import AdaBoostRegressor\n",
    "from sklearn.tree import DecisionTreeRegressor\n",
    "from sklearn.ensemble import VotingRegressor\n",
    "from sklearn.ensemble import GradientBoostingRegressor\n",
    "from sklearn.ensemble import StackingRegressor\n",
    "from sklearn.ensemble import RandomForestRegressor"
   ]
  },
  {
   "cell_type": "markdown",
   "id": "70ac6f93",
   "metadata": {},
   "source": [
    "# Load data"
   ]
  },
  {
   "cell_type": "markdown",
   "id": "43986296",
   "metadata": {},
   "source": [
    "## Train data"
   ]
  },
  {
   "cell_type": "code",
   "execution_count": 17,
   "id": "fbb74a7a-8a80-499d-a814-9fce11199da0",
   "metadata": {},
   "outputs": [],
   "source": [
    "x = xr.open_dataset(\"X.nc\")"
   ]
  },
  {
   "cell_type": "code",
   "execution_count": 18,
   "id": "96a68ce8-923a-4abc-a90a-2cc257eaadfb",
   "metadata": {},
   "outputs": [],
   "source": [
    "X = x.to_array()[0]"
   ]
  },
  {
   "cell_type": "code",
   "execution_count": 19,
   "id": "47c17ac1-f13c-4115-8397-21cf0439d6de",
   "metadata": {},
   "outputs": [],
   "source": [
    "Y = xr.open_dataset(\"Y.nc\")"
   ]
  },
  {
   "cell_type": "code",
   "execution_count": 20,
   "id": "f9e2bc30-462b-4b84-b7a4-46e49e295ecb",
   "metadata": {},
   "outputs": [],
   "source": [
    "y = Y.to_dataframe()"
   ]
  },
  {
   "cell_type": "code",
   "execution_count": 21,
   "id": "5afce412-fcda-4328-af6e-2402b3f6f60f",
   "metadata": {},
   "outputs": [],
   "source": [
    "y = y['UCUR'].to_numpy()"
   ]
  },
  {
   "cell_type": "markdown",
   "id": "7564b7e9",
   "metadata": {},
   "source": [
    "## Test data"
   ]
  },
  {
   "cell_type": "markdown",
   "id": "040d5aa0",
   "metadata": {},
   "source": [
    "# Prepare data"
   ]
  },
  {
   "cell_type": "markdown",
   "id": "42b844d0",
   "metadata": {},
   "source": [
    "## Build pipeline for preproc data"
   ]
  },
  {
   "cell_type": "markdown",
   "id": "eb5cf83d",
   "metadata": {},
   "source": [
    "This pipeline is important to adjust the data to enter in the DL model.\n",
    "\n",
    "We are applying two corrections:\n",
    "- KNNImputer: to impute value when we have missing data. It will get the closest value to complete\n",
    "- Standardcale: to use ML and DL models, we have to rescale all variables to the same scale. I choose Standard sclae, but it will depends on the hist distribuition of the variations (normal distribution and outliers)"
   ]
  },
  {
   "cell_type": "code",
   "execution_count": 23,
   "id": "4e63fb2e-f6d8-40a5-b663-a18d0c853da0",
   "metadata": {},
   "outputs": [
    {
     "data": {
      "text/plain": [
       "(array([ 48., 144., 106.,  72.,  59.,  56.,  67.,  49.,  27.,  20.]),\n",
       " array([294.6000061 , 294.73620605, 294.87240601, 295.00860596,\n",
       "        295.14480591, 295.28100586, 295.41720581, 295.55340576,\n",
       "        295.68960571, 295.82580566, 295.96200562]),\n",
       " <BarContainer object of 10 artists>)"
      ]
     },
     "execution_count": 23,
     "metadata": {},
     "output_type": "execute_result"
    },
    {
     "data": {
      "image/png": "[encoded data removed]",
      "text/plain": [
       "<Figure size 432x288 with 1 Axes>"
      ]
     },
     "metadata": {
      "needs_background": "light"
     },
     "output_type": "display_data"
    }
   ],
   "source": [
    "plt.hist(X[0][17:-1])"
   ]
  },
  {
   "cell_type": "code",
   "execution_count": 22,
   "id": "f575a6f8",
   "metadata": {},
   "outputs": [
    {
     "data": {
      "text/plain": [
       "(array([3., 1., 0., 0., 0., 1., 1., 2., 3., 5.]),\n",
       " array([0.7934 , 0.80665, 0.8199 , 0.83315, 0.8464 , 0.85965, 0.8729 ,\n",
       "        0.88615, 0.8994 , 0.91265, 0.9259 ]),\n",
       " <BarContainer object of 10 artists>)"
      ]
     },
     "execution_count": 22,
     "metadata": {},
     "output_type": "execute_result"
    },
    {
     "data": {
      "image/png": "[encoded data removed]",
      "text/plain": [
       "<Figure size 432x288 with 1 Axes>"
      ]
     },
     "metadata": {
      "needs_background": "light"
     },
     "output_type": "display_data"
    }
   ],
   "source": [
    "plt.hist(X[0][0:16])"
   ]
  },
  {
   "cell_type": "code",
   "execution_count": 33,
   "id": "1face8b4",
   "metadata": {},
   "outputs": [],
   "source": [
    "def create_preproc(X):\n",
    "    scaler = StandardScaler()\n",
    "\n",
    "    return scaler\n"
   ]
  },
  {
   "cell_type": "markdown",
   "id": "26d7bd21",
   "metadata": {},
   "source": [
    "## Preproc data"
   ]
  },
  {
   "cell_type": "markdown",
   "id": "87c9776d",
   "metadata": {},
   "source": [
    "Just to show the preproc model ⬇️"
   ]
  },
  {
   "cell_type": "code",
   "execution_count": 34,
   "id": "fb7760c1",
   "metadata": {},
   "outputs": [],
   "source": [
    "preproc = create_preproc(X)"
   ]
  },
  {
   "cell_type": "markdown",
   "id": "19095f23",
   "metadata": {},
   "source": [
    "Fit and transform the data ⬇️"
   ]
  },
  {
   "cell_type": "code",
   "execution_count": 35,
   "id": "fd54e6d6",
   "metadata": {},
   "outputs": [
    {
     "data": {
      "text/html": [
       "<style>#sk-c71fcd08-47aa-4b32-963b-379a05eabdf3 {color: black;background-color: white;}#sk-c71fcd08-47aa-4b32-963b-379a05eabdf3 pre{padding: 0;}#sk-c71fcd08-47aa-4b32-963b-379a05eabdf3 div.sk-toggleable {background-color: white;}#sk-c71fcd08-47aa-4b32-963b-379a05eabdf3 label.sk-toggleable__label {cursor: pointer;display: block;width: 100%;margin-bottom: 0;padding: 0.2em 0.3em;box-sizing: border-box;text-align: center;}#sk-c71fcd08-47aa-4b32-963b-379a05eabdf3 div.sk-toggleable__content {max-height: 0;max-width: 0;overflow: hidden;text-align: left;background-color: #f0f8ff;}#sk-c71fcd08-47aa-4b32-963b-379a05eabdf3 div.sk-toggleable__content pre {margin: 0.2em;color: black;border-radius: 0.25em;background-color: #f0f8ff;}#sk-c71fcd08-47aa-4b32-963b-379a05eabdf3 input.sk-toggleable__control:checked~div.sk-toggleable__content {max-height: 200px;max-width: 100%;overflow: auto;}#sk-c71fcd08-47aa-4b32-963b-379a05eabdf3 div.sk-estimator input.sk-toggleable__control:checked~label.sk-toggleable__label {background-color: #d4ebff;}#sk-c71fcd08-47aa-4b32-963b-379a05eabdf3 div.sk-label input.sk-toggleable__control:checked~label.sk-toggleable__label {background-color: #d4ebff;}#sk-c71fcd08-47aa-4b32-963b-379a05eabdf3 input.sk-hidden--visually {border: 0;clip: rect(1px 1px 1px 1px);clip: rect(1px, 1px, 1px, 1px);height: 1px;margin: -1px;overflow: hidden;padding: 0;position: absolute;width: 1px;}#sk-c71fcd08-47aa-4b32-963b-379a05eabdf3 div.sk-estimator {font-family: monospace;background-color: #f0f8ff;margin: 0.25em 0.25em;border: 1px dotted black;border-radius: 0.25em;box-sizing: border-box;}#sk-c71fcd08-47aa-4b32-963b-379a05eabdf3 div.sk-estimator:hover {background-color: #d4ebff;}#sk-c71fcd08-47aa-4b32-963b-379a05eabdf3 div.sk-parallel-item::after {content: \"\";width: 100%;border-bottom: 1px solid gray;flex-grow: 1;}#sk-c71fcd08-47aa-4b32-963b-379a05eabdf3 div.sk-label:hover label.sk-toggleable__label {background-color: #d4ebff;}#sk-c71fcd08-47aa-4b32-963b-379a05eabdf3 div.sk-serial::before {content: \"\";position: absolute;border-left: 1px solid gray;box-sizing: border-box;top: 2em;bottom: 0;left: 50%;}#sk-c71fcd08-47aa-4b32-963b-379a05eabdf3 div.sk-serial {display: flex;flex-direction: column;align-items: center;background-color: white;}#sk-c71fcd08-47aa-4b32-963b-379a05eabdf3 div.sk-item {z-index: 1;}#sk-c71fcd08-47aa-4b32-963b-379a05eabdf3 div.sk-parallel {display: flex;align-items: stretch;justify-content: center;background-color: white;}#sk-c71fcd08-47aa-4b32-963b-379a05eabdf3 div.sk-parallel-item {display: flex;flex-direction: column;position: relative;background-color: white;}#sk-c71fcd08-47aa-4b32-963b-379a05eabdf3 div.sk-parallel-item:first-child::after {align-self: flex-end;width: 50%;}#sk-c71fcd08-47aa-4b32-963b-379a05eabdf3 div.sk-parallel-item:last-child::after {align-self: flex-start;width: 50%;}#sk-c71fcd08-47aa-4b32-963b-379a05eabdf3 div.sk-parallel-item:only-child::after {width: 0;}#sk-c71fcd08-47aa-4b32-963b-379a05eabdf3 div.sk-dashed-wrapped {border: 1px dashed gray;margin: 0.2em;box-sizing: border-box;padding-bottom: 0.1em;background-color: white;position: relative;}#sk-c71fcd08-47aa-4b32-963b-379a05eabdf3 div.sk-label label {font-family: monospace;font-weight: bold;background-color: white;display: inline-block;line-height: 1.2em;}#sk-c71fcd08-47aa-4b32-963b-379a05eabdf3 div.sk-label-container {position: relative;z-index: 2;text-align: center;}#sk-c71fcd08-47aa-4b32-963b-379a05eabdf3 div.sk-container {display: inline-block;position: relative;}</style><div id=\"sk-c71fcd08-47aa-4b32-963b-379a05eabdf3\" class\"sk-top-container\"><div class=\"sk-container\"><div class=\"sk-item\"><div class=\"sk-estimator sk-toggleable\"><input class=\"sk-toggleable__control sk-hidden--visually\" id=\"4f3f62a4-5f09-40d2-94da-fd728fd048c5\" type=\"checkbox\" checked><label class=\"sk-toggleable__label\" for=\"4f3f62a4-5f09-40d2-94da-fd728fd048c5\">StandardScaler</label><div class=\"sk-toggleable__content\"><pre>StandardScaler()</pre></div></div></div></div></div>"
      ],
      "text/plain": [
       "StandardScaler()"
      ]
     },
     "execution_count": 35,
     "metadata": {},
     "output_type": "execute_result"
    }
   ],
   "source": [
    "preproc.fit(X)"
   ]
  },
  {
   "cell_type": "markdown",
   "id": "d15e6a27",
   "metadata": {},
   "source": [
    "# Machine Learning"
   ]
  },
  {
   "cell_type": "code",
   "execution_count": 42,
   "id": "25c92f11",
   "metadata": {},
   "outputs": [
    {
     "data": {
      "text/html": [
       "<style>#sk-f9dbb7f2-6f66-4106-8cbb-2269a065f26b {color: black;background-color: white;}#sk-f9dbb7f2-6f66-4106-8cbb-2269a065f26b pre{padding: 0;}#sk-f9dbb7f2-6f66-4106-8cbb-2269a065f26b div.sk-toggleable {background-color: white;}#sk-f9dbb7f2-6f66-4106-8cbb-2269a065f26b label.sk-toggleable__label {cursor: pointer;display: block;width: 100%;margin-bottom: 0;padding: 0.2em 0.3em;box-sizing: border-box;text-align: center;}#sk-f9dbb7f2-6f66-4106-8cbb-2269a065f26b div.sk-toggleable__content {max-height: 0;max-width: 0;overflow: hidden;text-align: left;background-color: #f0f8ff;}#sk-f9dbb7f2-6f66-4106-8cbb-2269a065f26b div.sk-toggleable__content pre {margin: 0.2em;color: black;border-radius: 0.25em;background-color: #f0f8ff;}#sk-f9dbb7f2-6f66-4106-8cbb-2269a065f26b input.sk-toggleable__control:checked~div.sk-toggleable__content {max-height: 200px;max-width: 100%;overflow: auto;}#sk-f9dbb7f2-6f66-4106-8cbb-2269a065f26b div.sk-estimator input.sk-toggleable__control:checked~label.sk-toggleable__label {background-color: #d4ebff;}#sk-f9dbb7f2-6f66-4106-8cbb-2269a065f26b div.sk-label input.sk-toggleable__control:checked~label.sk-toggleable__label {background-color: #d4ebff;}#sk-f9dbb7f2-6f66-4106-8cbb-2269a065f26b input.sk-hidden--visually {border: 0;clip: rect(1px 1px 1px 1px);clip: rect(1px, 1px, 1px, 1px);height: 1px;margin: -1px;overflow: hidden;padding: 0;position: absolute;width: 1px;}#sk-f9dbb7f2-6f66-4106-8cbb-2269a065f26b div.sk-estimator {font-family: monospace;background-color: #f0f8ff;margin: 0.25em 0.25em;border: 1px dotted black;border-radius: 0.25em;box-sizing: border-box;}#sk-f9dbb7f2-6f66-4106-8cbb-2269a065f26b div.sk-estimator:hover {background-color: #d4ebff;}#sk-f9dbb7f2-6f66-4106-8cbb-2269a065f26b div.sk-parallel-item::after {content: \"\";width: 100%;border-bottom: 1px solid gray;flex-grow: 1;}#sk-f9dbb7f2-6f66-4106-8cbb-2269a065f26b div.sk-label:hover label.sk-toggleable__label {background-color: #d4ebff;}#sk-f9dbb7f2-6f66-4106-8cbb-2269a065f26b div.sk-serial::before {content: \"\";position: absolute;border-left: 1px solid gray;box-sizing: border-box;top: 2em;bottom: 0;left: 50%;}#sk-f9dbb7f2-6f66-4106-8cbb-2269a065f26b div.sk-serial {display: flex;flex-direction: column;align-items: center;background-color: white;}#sk-f9dbb7f2-6f66-4106-8cbb-2269a065f26b div.sk-item {z-index: 1;}#sk-f9dbb7f2-6f66-4106-8cbb-2269a065f26b div.sk-parallel {display: flex;align-items: stretch;justify-content: center;background-color: white;}#sk-f9dbb7f2-6f66-4106-8cbb-2269a065f26b div.sk-parallel-item {display: flex;flex-direction: column;position: relative;background-color: white;}#sk-f9dbb7f2-6f66-4106-8cbb-2269a065f26b div.sk-parallel-item:first-child::after {align-self: flex-end;width: 50%;}#sk-f9dbb7f2-6f66-4106-8cbb-2269a065f26b div.sk-parallel-item:last-child::after {align-self: flex-start;width: 50%;}#sk-f9dbb7f2-6f66-4106-8cbb-2269a065f26b div.sk-parallel-item:only-child::after {width: 0;}#sk-f9dbb7f2-6f66-4106-8cbb-2269a065f26b div.sk-dashed-wrapped {border: 1px dashed gray;margin: 0.2em;box-sizing: border-box;padding-bottom: 0.1em;background-color: white;position: relative;}#sk-f9dbb7f2-6f66-4106-8cbb-2269a065f26b div.sk-label label {font-family: monospace;font-weight: bold;background-color: white;display: inline-block;line-height: 1.2em;}#sk-f9dbb7f2-6f66-4106-8cbb-2269a065f26b div.sk-label-container {position: relative;z-index: 2;text-align: center;}#sk-f9dbb7f2-6f66-4106-8cbb-2269a065f26b div.sk-container {display: inline-block;position: relative;}</style><div id=\"sk-f9dbb7f2-6f66-4106-8cbb-2269a065f26b\" class\"sk-top-container\"><div class=\"sk-container\"><div class=\"sk-item sk-dashed-wrapped\"><div class=\"sk-label-container\"><div class=\"sk-label sk-toggleable\"><input class=\"sk-toggleable__control sk-hidden--visually\" id=\"d91773c9-a719-4846-9afd-69d8d439976e\" type=\"checkbox\" ><label class=\"sk-toggleable__label\" for=\"d91773c9-a719-4846-9afd-69d8d439976e\">Pipeline</label><div class=\"sk-toggleable__content\"><pre>Pipeline(steps=[('standardscaler', StandardScaler()), ('ridge', Ridge())])</pre></div></div></div><div class=\"sk-serial\"><div class=\"sk-item\"><div class=\"sk-estimator sk-toggleable\"><input class=\"sk-toggleable__control sk-hidden--visually\" id=\"38d7f620-84a4-40e1-b325-bde8767e0a6a\" type=\"checkbox\" ><label class=\"sk-toggleable__label\" for=\"38d7f620-84a4-40e1-b325-bde8767e0a6a\">StandardScaler</label><div class=\"sk-toggleable__content\"><pre>StandardScaler()</pre></div></div></div><div class=\"sk-item\"><div class=\"sk-estimator sk-toggleable\"><input class=\"sk-toggleable__control sk-hidden--visually\" id=\"86062d87-4d6b-4900-9122-4cdd04a460ed\" type=\"checkbox\" ><label class=\"sk-toggleable__label\" for=\"86062d87-4d6b-4900-9122-4cdd04a460ed\">Ridge</label><div class=\"sk-toggleable__content\"><pre>Ridge()</pre></div></div></div></div></div></div></div>"
      ],
      "text/plain": [
       "Pipeline(steps=[('standardscaler', StandardScaler()), ('ridge', Ridge())])"
      ]
     },
     "execution_count": 42,
     "metadata": {},
     "output_type": "execute_result"
    }
   ],
   "source": [
    "pipe_baseline = make_pipeline(preproc, Ridge())\n",
    "pipe_baseline"
   ]
  },
  {
   "cell_type": "code",
   "execution_count": 43,
   "id": "323b9e8d",
   "metadata": {},
   "outputs": [
    {
     "data": {
      "text/plain": [
       "-86.64324113965301"
      ]
     },
     "execution_count": 43,
     "metadata": {},
     "output_type": "execute_result"
    }
   ],
   "source": [
    "score_baseline = cross_val_score(pipe_baseline, X, y, cv=5, scoring='neg_mean_squared_error').mean()\n",
    "score_baseline"
   ]
  },
  {
   "cell_type": "code",
   "execution_count": null,
   "id": "f96193a3",
   "metadata": {},
   "outputs": [],
   "source": [
    "pipe_baseline.fit(X,y)\n",
    "y_pred_baseline = pipe_baseline.predict(X_test)\n",
    "y_pred_baseline"
   ]
  },
  {
   "cell_type": "markdown",
   "id": "4b83e9ca",
   "metadata": {},
   "source": [
    "# Deep Learning"
   ]
  },
  {
   "cell_type": "markdown",
   "id": "98e23687",
   "metadata": {},
   "source": [
    "## Preproc data"
   ]
  },
  {
   "cell_type": "code",
   "execution_count": 44,
   "id": "c668ec5d",
   "metadata": {},
   "outputs": [],
   "source": [
    "X_preproc = preproc.transform(X)"
   ]
  },
  {
   "cell_type": "markdown",
   "id": "75545019",
   "metadata": {},
   "source": [
    "## Create validation split"
   ]
  },
  {
   "cell_type": "code",
   "execution_count": 45,
   "id": "bbdf985f",
   "metadata": {},
   "outputs": [],
   "source": [
    "X_train, X_val, y_train, y_val = train_test_split(X_preproc, y, test_size=0.3, random_state=0)"
   ]
  },
  {
   "cell_type": "markdown",
   "id": "ba3720f0",
   "metadata": {},
   "source": [
    "## Initialize model"
   ]
  },
  {
   "cell_type": "markdown",
   "id": "1545b9bf",
   "metadata": {},
   "source": [
    "See the shape of your data and try insert the number of columns in the input_dim value"
   ]
  },
  {
   "cell_type": "code",
   "execution_count": 55,
   "id": "3c39a36a",
   "metadata": {},
   "outputs": [
    {
     "data": {
      "text/plain": [
       "(24084, 666)"
      ]
     },
     "execution_count": 55,
     "metadata": {},
     "output_type": "execute_result"
    }
   ],
   "source": [
    "X_train.shape"
   ]
  },
  {
   "cell_type": "code",
   "execution_count": 56,
   "id": "30141c22",
   "metadata": {},
   "outputs": [],
   "source": [
    "input_dim = 666 #insert here the number of dimensions of the X data"
   ]
  },
  {
   "cell_type": "code",
   "execution_count": 127,
   "id": "bd24ced8",
   "metadata": {},
   "outputs": [],
   "source": [
    "from tensorflow.keras.optimizers import Adam\n",
    "\n",
    "from tensorflow.keras.optimizers.schedules import ExponentialDecay\n",
    "\n",
    "initial_learning_rate = 0.01\n",
    "\n",
    "lr = ExponentialDecay(\n",
    "    initial_learning_rate, decay_steps=500, decay_rate=0.7,\n",
    ")\n",
    "\n",
    "def initialize_model(input_dim, lr):\n",
    "\n",
    "    \n",
    "    model = models.Sequential()\n",
    "\n",
    "    opt = Adam(learning_rate=lr)\n",
    "    \n",
    "    model.add(layers.Dense(20, activation='relu', input_dim=input_dim))\n",
    "    model.add(layers.Dense(20, activation='relu'))\n",
    "    model.add(layers.Dense(20, activation='relu'))\n",
    "\n",
    "    model.add(layers.Dense(1, activation='linear')) \n",
    "\n",
    "    model.compile(optimizer=opt,\n",
    "                  loss='msle',\n",
    "                  metrics='mae')# optimize for the squared log error!\n",
    "    \n",
    "    return model"
   ]
  },
  {
   "cell_type": "markdown",
   "id": "bb46b937",
   "metadata": {},
   "source": [
    "Initialize modal and show its summary"
   ]
  },
  {
   "cell_type": "code",
   "execution_count": 130,
   "id": "2a76c0e5",
   "metadata": {},
   "outputs": [
    {
     "name": "stdout",
     "output_type": "stream",
     "text": [
      "Model: \"sequential_17\"\n",
      "_________________________________________________________________\n",
      "Layer (type)                 Output Shape              Param #   \n",
      "=================================================================\n",
      "dense_72 (Dense)             (None, 20)                13340     \n",
      "_________________________________________________________________\n",
      "dense_73 (Dense)             (None, 20)                420       \n",
      "_________________________________________________________________\n",
      "dense_74 (Dense)             (None, 20)                420       \n",
      "_________________________________________________________________\n",
      "dense_75 (Dense)             (None, 1)                 21        \n",
      "=================================================================\n",
      "Total params: 14,201\n",
      "Trainable params: 14,201\n",
      "Non-trainable params: 0\n",
      "_________________________________________________________________\n"
     ]
    }
   ],
   "source": [
    "model = initialize_model(input_dim, lr=0.001)\n",
    "model.summary()"
   ]
  },
  {
   "cell_type": "markdown",
   "id": "3a69bc65",
   "metadata": {},
   "source": [
    "## Fit model to your data"
   ]
  },
  {
   "cell_type": "code",
   "execution_count": 131,
   "id": "30f359b2",
   "metadata": {},
   "outputs": [
    {
     "name": "stdout",
     "output_type": "stream",
     "text": [
      "Epoch 1/100\n",
      "527/527 [==============================] - 1s 2ms/step - loss: 0.8415 - mae: 6.7852 - val_loss: 0.5021 - val_mae: 5.8338\n",
      "Epoch 2/100\n",
      "527/527 [==============================] - 1s 2ms/step - loss: 0.5000 - mae: 5.8176 - val_loss: 0.4407 - val_mae: 5.5180\n",
      "Epoch 3/100\n",
      "527/527 [==============================] - 1s 2ms/step - loss: 0.4530 - mae: 5.5578 - val_loss: 0.3767 - val_mae: 5.3073\n",
      "Epoch 4/100\n",
      "527/527 [==============================] - 1s 2ms/step - loss: 0.4091 - mae: 5.3613 - val_loss: 0.3523 - val_mae: 5.1331\n",
      "Epoch 5/100\n",
      "527/527 [==============================] - 1s 2ms/step - loss: 0.3970 - mae: 5.2872 - val_loss: 0.3262 - val_mae: 4.9788\n",
      "Epoch 6/100\n",
      "527/527 [==============================] - 1s 2ms/step - loss: 0.3570 - mae: 5.1386 - val_loss: 0.3277 - val_mae: 5.1217\n",
      "Epoch 7/100\n",
      "527/527 [==============================] - 1s 2ms/step - loss: 0.3670 - mae: 5.1288 - val_loss: 0.3114 - val_mae: 4.9102\n",
      "Epoch 8/100\n",
      "527/527 [==============================] - 1s 2ms/step - loss: 0.3364 - mae: 5.0044 - val_loss: 0.3041 - val_mae: 5.1126\n",
      "Epoch 9/100\n",
      "527/527 [==============================] - 1s 2ms/step - loss: 0.3088 - mae: 4.9382 - val_loss: 0.2835 - val_mae: 4.8410\n",
      "Epoch 10/100\n",
      "527/527 [==============================] - 1s 2ms/step - loss: 0.2953 - mae: 4.8857 - val_loss: 0.2845 - val_mae: 4.7340\n",
      "Epoch 11/100\n",
      "527/527 [==============================] - 1s 2ms/step - loss: 0.2861 - mae: 4.8086 - val_loss: 0.2930 - val_mae: 4.8654\n",
      "Epoch 12/100\n",
      "527/527 [==============================] - 1s 2ms/step - loss: 0.2675 - mae: 4.7344 - val_loss: 0.2662 - val_mae: 4.6712\n",
      "Epoch 13/100\n",
      "527/527 [==============================] - 1s 2ms/step - loss: 0.2733 - mae: 4.7959 - val_loss: 0.2665 - val_mae: 4.6153\n",
      "Epoch 14/100\n",
      "527/527 [==============================] - 1s 2ms/step - loss: 0.2614 - mae: 4.7126 - val_loss: 0.2543 - val_mae: 4.6641\n",
      "Epoch 15/100\n",
      "527/527 [==============================] - 1s 2ms/step - loss: 0.2595 - mae: 4.6792 - val_loss: 0.2625 - val_mae: 4.6245\n",
      "Epoch 16/100\n",
      "527/527 [==============================] - 1s 2ms/step - loss: 0.2488 - mae: 4.5979 - val_loss: 0.2456 - val_mae: 4.5465\n",
      "Epoch 17/100\n",
      "527/527 [==============================] - 1s 2ms/step - loss: 0.2475 - mae: 4.5805 - val_loss: 0.2463 - val_mae: 4.5605\n",
      "Epoch 18/100\n",
      "527/527 [==============================] - 1s 2ms/step - loss: 0.2364 - mae: 4.5875 - val_loss: 0.2592 - val_mae: 4.5239\n",
      "Epoch 19/100\n",
      "527/527 [==============================] - 1s 2ms/step - loss: 0.2378 - mae: 4.4757 - val_loss: 0.2302 - val_mae: 4.4589\n",
      "Epoch 20/100\n",
      "527/527 [==============================] - 1s 2ms/step - loss: 0.2285 - mae: 4.4794 - val_loss: 0.2552 - val_mae: 4.5399\n",
      "Epoch 21/100\n",
      "527/527 [==============================] - 1s 2ms/step - loss: 0.2231 - mae: 4.5174 - val_loss: 0.2474 - val_mae: 4.4327\n",
      "Epoch 22/100\n",
      "527/527 [==============================] - 1s 2ms/step - loss: 0.2297 - mae: 4.4709 - val_loss: 0.2146 - val_mae: 4.3698\n",
      "Epoch 23/100\n",
      "527/527 [==============================] - 1s 2ms/step - loss: 0.2277 - mae: 4.5015 - val_loss: 0.1917 - val_mae: 4.2174\n",
      "Epoch 24/100\n",
      "527/527 [==============================] - 1s 2ms/step - loss: 0.2147 - mae: 4.3370 - val_loss: 0.2311 - val_mae: 4.3844\n",
      "Epoch 25/100\n",
      "527/527 [==============================] - 1s 2ms/step - loss: 0.2132 - mae: 4.3090 - val_loss: 0.2131 - val_mae: 4.3321\n",
      "Epoch 26/100\n",
      "527/527 [==============================] - 1s 2ms/step - loss: 0.2103 - mae: 4.3520 - val_loss: 0.1950 - val_mae: 4.2626\n",
      "Epoch 27/100\n",
      "527/527 [==============================] - 1s 2ms/step - loss: 0.2123 - mae: 4.4104 - val_loss: 0.2016 - val_mae: 4.2313\n",
      "Epoch 28/100\n",
      "527/527 [==============================] - 1s 2ms/step - loss: 0.2207 - mae: 4.3462 - val_loss: 0.2057 - val_mae: 4.2700\n",
      "Epoch 29/100\n",
      "527/527 [==============================] - 1s 2ms/step - loss: 0.2102 - mae: 4.3526 - val_loss: 0.2226 - val_mae: 4.2992\n",
      "Epoch 30/100\n",
      "527/527 [==============================] - 1s 2ms/step - loss: 0.2059 - mae: 4.2988 - val_loss: 0.1808 - val_mae: 4.1196\n",
      "Epoch 31/100\n",
      "527/527 [==============================] - 1s 2ms/step - loss: 0.2054 - mae: 4.2563 - val_loss: 0.1881 - val_mae: 4.1030\n",
      "Epoch 32/100\n",
      "527/527 [==============================] - 1s 2ms/step - loss: 0.2184 - mae: 4.2035 - val_loss: 0.2464 - val_mae: 4.5587\n",
      "Epoch 33/100\n",
      "527/527 [==============================] - 1s 2ms/step - loss: 0.2313 - mae: 4.3423 - val_loss: 0.1990 - val_mae: 4.2392\n",
      "Epoch 34/100\n",
      "527/527 [==============================] - 1s 2ms/step - loss: 0.2038 - mae: 4.2911 - val_loss: 0.1821 - val_mae: 4.2393\n",
      "Epoch 35/100\n",
      "527/527 [==============================] - 1s 2ms/step - loss: 0.1910 - mae: 4.1572 - val_loss: 0.1831 - val_mae: 4.1554\n",
      "Epoch 36/100\n",
      "527/527 [==============================] - 1s 2ms/step - loss: 0.2019 - mae: 4.2099 - val_loss: 0.1899 - val_mae: 4.2003\n",
      "Epoch 37/100\n",
      "527/527 [==============================] - 1s 2ms/step - loss: 0.1935 - mae: 4.2097 - val_loss: 0.2332 - val_mae: 4.2532\n",
      "Epoch 38/100\n",
      "527/527 [==============================] - 1s 2ms/step - loss: 0.1845 - mae: 4.1739 - val_loss: 0.1686 - val_mae: 4.0740\n",
      "Epoch 39/100\n",
      "527/527 [==============================] - 1s 2ms/step - loss: 0.1980 - mae: 4.1364 - val_loss: 0.1764 - val_mae: 4.0073\n",
      "Epoch 40/100\n",
      "527/527 [==============================] - 1s 2ms/step - loss: 0.1923 - mae: 4.2145 - val_loss: 0.1980 - val_mae: 4.0689\n",
      "Epoch 41/100\n",
      "527/527 [==============================] - 1s 2ms/step - loss: 0.1984 - mae: 4.1450 - val_loss: 0.1836 - val_mae: 4.1066\n",
      "Epoch 42/100\n",
      "527/527 [==============================] - 1s 2ms/step - loss: 0.1802 - mae: 4.0169 - val_loss: 0.1827 - val_mae: 4.1605\n",
      "Epoch 43/100\n",
      "527/527 [==============================] - 1s 2ms/step - loss: 0.1837 - mae: 4.1621 - val_loss: 0.1636 - val_mae: 3.9789\n",
      "Epoch 44/100\n",
      "527/527 [==============================] - 1s 2ms/step - loss: 0.1847 - mae: 4.1323 - val_loss: 0.1774 - val_mae: 4.0219\n",
      "Epoch 45/100\n",
      "527/527 [==============================] - 1s 2ms/step - loss: 0.1826 - mae: 4.1391 - val_loss: 0.1674 - val_mae: 4.0357\n",
      "Epoch 46/100\n",
      "527/527 [==============================] - 1s 2ms/step - loss: 0.1819 - mae: 4.1099 - val_loss: 0.1804 - val_mae: 4.0953\n",
      "Epoch 47/100\n",
      "527/527 [==============================] - 1s 2ms/step - loss: 0.1847 - mae: 4.1468 - val_loss: 0.1754 - val_mae: 4.0818\n",
      "Epoch 48/100\n",
      "527/527 [==============================] - 1s 2ms/step - loss: 0.1767 - mae: 4.1341 - val_loss: 0.1656 - val_mae: 4.0774\n",
      "Epoch 49/100\n",
      "527/527 [==============================] - 1s 2ms/step - loss: 0.1974 - mae: 4.1985 - val_loss: 0.1733 - val_mae: 4.0461\n",
      "Epoch 50/100\n",
      "527/527 [==============================] - 1s 2ms/step - loss: 0.1831 - mae: 4.1182 - val_loss: 0.1734 - val_mae: 4.0317\n",
      "Epoch 51/100\n",
      "527/527 [==============================] - 1s 2ms/step - loss: 0.1843 - mae: 4.1120 - val_loss: 0.1707 - val_mae: 4.1057\n",
      "Epoch 52/100\n",
      "527/527 [==============================] - 1s 2ms/step - loss: 0.1802 - mae: 4.0914 - val_loss: 0.1782 - val_mae: 4.0877\n",
      "Epoch 53/100\n",
      "527/527 [==============================] - 1s 2ms/step - loss: 0.1719 - mae: 4.1075 - val_loss: 0.2088 - val_mae: 4.1985\n"
     ]
    }
   ],
   "source": [
    "es = EarlyStopping(patience=10, restore_best_weights=True)\n",
    "\n",
    "history = model.fit(X_train, y_train,\n",
    "                    validation_split=0.3,\n",
    "                    epochs=100,\n",
    "                    batch_size=32, \n",
    "                    verbose=1, \n",
    "                    callbacks=[es])"
   ]
  },
  {
   "cell_type": "markdown",
   "id": "d9be5a2b",
   "metadata": {},
   "source": [
    "## Evaluate the model"
   ]
  },
  {
   "cell_type": "code",
   "execution_count": 132,
   "id": "ec135667",
   "metadata": {},
   "outputs": [],
   "source": [
    "def plot_history(history):\n",
    "    plt.plot(np.sqrt(history.history['loss']))\n",
    "    plt.plot(np.sqrt(history.history['val_loss']))\n",
    "    plt.title('Model Loss')\n",
    "    plt.ylabel('MSLE')\n",
    "    plt.xlabel('Epoch')\n",
    "    plt.legend(['Train', 'Val'], loc='best')\n",
    "    plt.show()"
   ]
  },
  {
   "cell_type": "code",
   "execution_count": 133,
   "id": "7bac7980",
   "metadata": {},
   "outputs": [
    {
     "data": {
      "image/png": "[encoded data removed]",
      "text/plain": [
       "<Figure size 432x288 with 1 Axes>"
      ]
     },
     "metadata": {
      "needs_background": "light"
     },
     "output_type": "display_data"
    }
   ],
   "source": [
    "plot_history(history)"
   ]
  },
  {
   "cell_type": "code",
   "execution_count": 134,
   "id": "25be06af",
   "metadata": {},
   "outputs": [
    {
     "data": {
      "text/plain": [
       "[0.16979514062404633, 3.9955451488494873]"
      ]
     },
     "execution_count": 134,
     "metadata": {},
     "output_type": "execute_result"
    }
   ],
   "source": [
    "model.evaluate(X_val, y_val, verbose=0)"
   ]
  },
  {
   "cell_type": "markdown",
   "id": "a65baee3",
   "metadata": {},
   "source": [
    "## Predict the data"
   ]
  },
  {
   "cell_type": "code",
   "execution_count": 135,
   "id": "4e505877",
   "metadata": {},
   "outputs": [],
   "source": [
    "y_pred = model.predict(preproc.transform(X))"
   ]
  },
  {
   "cell_type": "code",
   "execution_count": 136,
   "id": "80f6ca0d",
   "metadata": {},
   "outputs": [
    {
     "data": {
      "text/plain": [
       "[<matplotlib.lines.Line2D at 0x7fda4ce6f1c0>]"
      ]
     },
     "execution_count": 136,
     "metadata": {},
     "output_type": "execute_result"
    },
    {
     "data": {
      "image/png": "[encoded data removed]",
      "text/plain": [
       "<Figure size 432x288 with 1 Axes>"
      ]
     },
     "metadata": {
      "needs_background": "light"
     },
     "output_type": "display_data"
    }
   ],
   "source": [
    "plt.plot(y)\n",
    "plt.plot(y_pred)"
   ]
  },
  {
   "cell_type": "code",
   "execution_count": null,
   "id": "67e372cb-c988-4996-a443-0120b36665b9",
   "metadata": {},
   "outputs": [],
   "source": []
  }
 ],
 "metadata": {
  "kernelspec": {
   "display_name": "Python 3 (ipykernel)",
   "language": "python",
   "name": "python3"
  },
  "language_info": {
   "codemirror_mode": {
    "name": "ipython",
    "version": 3
   },
   "file_extension": ".py",
   "mimetype": "text/x-python",
   "name": "python",
   "nbconvert_exporter": "python",
   "pygments_lexer": "ipython3",
   "version": "3.9.6"
  },
  "toc": {
   "base_numbering": 1,
   "nav_menu": {},
   "number_sections": true,
   "sideBar": true,
   "skip_h1_title": false,
   "title_cell": "Table of Contents",
   "title_sidebar": "Contents",
   "toc_cell": false,
   "toc_position": {},
   "toc_section_display": true,
   "toc_window_display": false
  }
 },
 "nbformat": 4,
 "nbformat_minor": 5
}
